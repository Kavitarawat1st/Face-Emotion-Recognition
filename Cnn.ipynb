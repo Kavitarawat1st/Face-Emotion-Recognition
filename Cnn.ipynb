{
 "cells": [
  {
   "cell_type": "code",
   "execution_count": null,
   "id": "6775355c-1eb3-42b1-85e4-00c251cbe6cc",
   "metadata": {},
   "outputs": [],
   "source": [
    "\n",
    "import os\n",
    "import pandas as pd\n",
    "\n",
    "def createdataframe(directory):\n",
    "    filenames = []\n",
    "    labels = []\n",
    "\n",
    "    for label in os.listdir(directory):\n",
    "        label_path = os.path.join(directory, label)\n",
    "        if os.path.isdir(label_path):\n",
    "            for filename in os.listdir(label_path):\n",
    "                if filename.endswith(\".jpg\"):\n",
    "                    filenames.append(os.path.join(label_path, filename))\n",
    "                    labels.append(label)\n",
    "\n",
    "    dataframe = pd.DataFrame({\n",
    "        'image': filenames,\n",
    "        'label': labels\n",
    "    })\n",
    "\n",
    "    return dataframe\n",
    "\n",
    "TRAIN_DIR = 'C:\\\\Users\\\\rohit\\\\Downloads\\\\archive\\\\images\\\\train'\n",
    "train = createdataframe(TRAIN_DIR)"
   ]
  },
  {
   "cell_type": "code",
   "execution_count": null,
   "id": "1899d968-fa07-4036-b6aa-3ffefe712c3c",
   "metadata": {},
   "outputs": [],
   "source": [
    "print(train)"
   ]
  },
  {
   "cell_type": "code",
   "execution_count": 12,
   "id": "2e88a737-ccb8-4098-bc37-2ba6dc9a3828",
   "metadata": {},
   "outputs": [],
   "source": [
    "\n",
    "import os\n",
    "import pandas as pd\n",
    "\n",
    "def createdataframe(directory):\n",
    "    filenames = []\n",
    "    labels = []\n",
    "\n",
    "    for label in os.listdir(directory):\n",
    "        label_path = os.path.join(directory, label)\n",
    "        if os.path.isdir(label_path):\n",
    "            for filename in os.listdir(label_path):\n",
    "                if filename.endswith(\".jpg\"):\n",
    "                    filenames.append(os.path.join(label_path, filename))\n",
    "                    labels.append(label)\n",
    "\n",
    "    dataframe = pd.DataFrame({\n",
    "        'image': filenames,\n",
    "        'label': labels\n",
    "    })\n",
    "\n",
    "    return dataframe\n",
    "\n",
    "TEST_DIR = 'C:\\\\Users\\\\rohit\\\\Downloads\\\\archive\\\\images\\\\test'\n",
    "test = createdataframe(TEST_DIR)"
   ]
  },
  {
   "cell_type": "code",
   "execution_count": null,
   "id": "7ebf5e8f-84f8-4b67-9031-7b84807e829e",
   "metadata": {},
   "outputs": [],
   "source": [
    "print(test)\n",
    "print(test['image'])\n",
    "\n",
    "from sklearn.preprocessing import LabelEncoder\n",
    "from tqdm.notebook import tqdm\n",
    "from keras.preprocessing.image import load_img, img_to_array\n",
    "\n",
    "def extract_features(images):\n",
    "    features = []\n",
    "    for image in tqdm(images):\n",
    "        img = load_img(image, color_mode='grayscale', target_size=(48, 48))\n",
    "        img_array = img_to_array(img)\n",
    "        features.append(img_array)\n",
    "    return features\n"
   ]
  },
  {
   "cell_type": "code",
   "execution_count": null,
   "id": "cc0c5cb6-10ef-4b42-8853-dd55119ea9fc",
   "metadata": {},
   "outputs": [],
   "source": [
    "train_features = extract_features(train['image'])"
   ]
  },
  {
   "cell_type": "code",
   "execution_count": null,
   "id": "0398db28-6890-478b-ba60-fa666297220f",
   "metadata": {},
   "outputs": [],
   "source": [
    "test_features = extract_features(test['image'])"
   ]
  },
  {
   "cell_type": "code",
   "execution_count": 16,
   "id": "92f1d135-dd6e-4963-a6ae-ec12b94fb620",
   "metadata": {},
   "outputs": [],
   "source": [
    "import numpy as np\n",
    "\n",
    "train_features = np.array(train_features)\n",
    "test_features = np.array(test_features)\n",
    "\n",
    "x_train = train_features / 255.0\n",
    "x_test = test_features / 255.0\n"
   ]
  },
  {
   "cell_type": "code",
   "execution_count": 18,
   "id": "853de558-4735-478d-8cdb-0ae587bd6bbb",
   "metadata": {},
   "outputs": [],
   "source": [
    "from sklearn.preprocessing import LabelEncoder\n",
    "le = LabelEncoder()\n",
    "le.fit(train['label'])\n",
    "y_train = le.transform(train['label'])\n",
    "y_test = le.transform(test['label'])"
   ]
  },
  {
   "cell_type": "code",
   "execution_count": 20,
   "id": "9d5bab97-3604-47ff-81ae-38ffc9074a67",
   "metadata": {},
   "outputs": [],
   "source": [
    "from tensorflow.keras.utils import to_categorical\n",
    "\n",
    "y_train = to_categorical(y_train, num_classes=7)\n",
    "y_test = to_categorical(y_test, num_classes=7)\n"
   ]
  },
  {
   "cell_type": "code",
   "execution_count": null,
   "id": "8b857912-132e-4804-973e-a8d09e7604e4",
   "metadata": {},
   "outputs": [],
   "source": [
    "import numpy as np\n",
    "import tensorflow as tf\n",
    "from tensorflow.keras.models import Sequential\n",
    "from tensorflow.keras.layers import Conv2D, MaxPooling2D, Flatten, Dense, Dropout\n",
    "from tensorflow.keras.preprocessing.image import ImageDataGenerator\n",
    "\n",
    "train_datagen = ImageDataGenerator(rescale=1./255, shear_range=0.2, zoom_range=0.2, horizontal_flip=True)\n",
    "val_datagen = ImageDataGenerator(rescale=1./255)\n",
    "\n",
    "batch_size = 128\n",
    "\n",
    "train_generator = train_datagen.flow_from_directory('C:\\\\Users\\\\rohit\\\\Downloads\\\\archive\\\\images\\\\train', target_size=(48, 48), batch_size=128, class_mode='categorical', color_mode='grayscale')\n",
    "val_generator = val_datagen.flow_from_directory('C:\\\\Users\\\\rohit\\\\Downloads\\\\archive\\\\images\\\\test', target_size=(48, 48), batch_size=128, class_mode='categorical', color_mode='grayscale')\n",
    "\n",
    "# Build the CNN model\n",
    "model = Sequential()\n",
    "\n",
    "model.add(Conv2D(32, (3, 3), input_shape=(48, 48, 1), activation='relu'))\n",
    "model.add(MaxPooling2D(pool_size=(2, 2)))\n",
    "\n",
    "model.add(Conv2D(64, (3, 3), activation='relu'))\n",
    "model.add(MaxPooling2D(pool_size=(2, 2)))\n",
    "\n",
    "model.add(Conv2D(128, (3, 3), activation='relu'))\n",
    "model.add(MaxPooling2D(pool_size=(2, 2)))\n",
    "\n",
    "model.add(Flatten())\n",
    "model.add(Dense(128, activation='relu'))\n",
    "model.add(Dropout(0.5))\n",
    "model.add(Dense(7, activation='softmax'))\n",
    "\n",
    "\n",
    "model.compile(optimizer='adam', loss='categorical_crossentropy', metrics=['accuracy'])\n",
    "\n",
    "\n",
    "history = model.fit(train_generator, epochs=100, validation_data=val_generator)\n",
    "\n",
    "model.save('face_emotions.h5')\n"
   ]
  },
  {
   "cell_type": "code",
   "execution_count": 22,
   "id": "39eb4028-5c21-45c9-b1fa-f1512d599d76",
   "metadata": {},
   "outputs": [],
   "source": [
    "from tensorflow.keras.models import load_model\n",
    "\n",
    "emotion_model = load_model('face_emotions.h5')\n"
   ]
  }
 ],
 "metadata": {
  "kernelspec": {
   "display_name": "Python 3 (ipykernel)",
   "language": "python",
   "name": "python3"
  },
  "language_info": {
   "codemirror_mode": {
    "name": "ipython",
    "version": 3
   },
   "file_extension": ".py",
   "mimetype": "text/x-python",
   "name": "python",
   "nbconvert_exporter": "python",
   "pygments_lexer": "ipython3",
   "version": "3.11.5"
  }
 },
 "nbformat": 4,
 "nbformat_minor": 5
}
